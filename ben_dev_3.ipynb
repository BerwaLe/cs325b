{
 "cells": [
  {
   "cell_type": "code",
   "execution_count": 1,
   "metadata": {},
   "outputs": [],
   "source": [
    "import os\n",
    "import tensorflow as tf\n",
    "\n",
    "from modules.run import load_config\n",
    "from modules.run import Trainer\n",
    "from modules.data import DataManager\n",
    "from modules.models import pretrained_cnn, pretrained_cnn_multichannel\n",
    "\n",
    "## Testing imports\n",
    "\n",
    "import matplotlib.pyplot as plt\n",
    "import numpy as np\n",
    "import pandas as pd"
   ]
  },
  {
   "cell_type": "code",
   "execution_count": 2,
   "metadata": {},
   "outputs": [
    {
     "name": "stdout",
     "output_type": "stream",
     "text": [
      "Declouded dataframe length: 152505\n",
      "Found 135000 validated image filenames belonging to 3 classes.\n",
      "Found 15000 validated image filenames belonging to 3 classes.\n",
      "Downloading data from https://github.com/fchollet/deep-learning-models/releases/download/v0.4/xception_weights_tf_dim_ordering_tf_kernels_notop.h5\n",
      "83689472/83683744 [==============================] - 13s 0us/step\n"
     ]
    }
   ],
   "source": [
    "config=load_config(\"cls_cropped_Xception_all\")\n",
    "data_manager = DataManager(config)\n",
    "\n",
    "\n",
    "train_generator, val_generator, dataframe = data_manager.generate_kenya()\n",
    "convnet = pretrained_cnn_multichannel(config, image_size=config[\"image_size\"], n_channels=config[\"n_channels\"])\n",
    "trainer = Trainer(config)"
   ]
  },
  {
   "cell_type": "code",
   "execution_count": 3,
   "metadata": {},
   "outputs": [
    {
     "name": "stdout",
     "output_type": "stream",
     "text": [
      "Epoch 1/15\n",
      "   1/4219 [..............................] - ETA: 60:39:27 - loss: 1.6317 - accuracy: 0.1875WARNING:tensorflow:Method (on_train_batch_end) is slow compared to the batch update (0.466825). Check your callbacks.\n",
      "4219/4219 [==============================] - 4051s 960ms/step - loss: 0.5365 - accuracy: 0.7514 - val_loss: 0.4608 - val_accuracy: 0.7922\n",
      "Epoch 2/15\n",
      "4219/4219 [==============================] - 1717s 407ms/step - loss: 0.4089 - accuracy: 0.8212 - val_loss: 0.4579 - val_accuracy: 0.7993\n",
      "Epoch 3/15\n",
      "4219/4219 [==============================] - 1715s 407ms/step - loss: 0.2642 - accuracy: 0.8899 - val_loss: 0.5158 - val_accuracy: 0.7912\n",
      "Epoch 4/15\n",
      "4219/4219 [==============================] - 1718s 407ms/step - loss: 0.1471 - accuracy: 0.9423 - val_loss: 0.6492 - val_accuracy: 0.7932\n",
      "Epoch 5/15\n",
      "4219/4219 [==============================] - 1723s 408ms/step - loss: 0.1056 - accuracy: 0.9597 - val_loss: 0.8165 - val_accuracy: 0.7789\n",
      "Epoch 6/15\n",
      "4219/4219 [==============================] - 1719s 408ms/step - loss: 0.0856 - accuracy: 0.9671 - val_loss: 0.8035 - val_accuracy: 0.7933\n",
      "Epoch 7/15\n",
      "4219/4219 [==============================] - 1714s 406ms/step - loss: 0.0745 - accuracy: 0.9719 - val_loss: 0.9584 - val_accuracy: 0.7922\n",
      "Epoch 8/15\n",
      "4219/4219 [==============================] - 1722s 408ms/step - loss: 0.0687 - accuracy: 0.9742 - val_loss: 0.9514 - val_accuracy: 0.7848\n",
      "Epoch 9/15\n",
      "4219/4219 [==============================] - 1712s 406ms/step - loss: 0.0595 - accuracy: 0.9784 - val_loss: 0.9995 - val_accuracy: 0.7805\n",
      "Epoch 10/15\n",
      "4219/4219 [==============================] - 1714s 406ms/step - loss: 0.0574 - accuracy: 0.9791 - val_loss: 1.0459 - val_accuracy: 0.7881\n",
      "Epoch 11/15\n",
      "4219/4219 [==============================] - 1718s 407ms/step - loss: 0.0527 - accuracy: 0.9806 - val_loss: 0.9798 - val_accuracy: 0.7904\n",
      "Epoch 12/15\n",
      "4219/4219 [==============================] - 1717s 407ms/step - loss: 0.0486 - accuracy: 0.9826 - val_loss: 1.1643 - val_accuracy: 0.7969\n",
      "Epoch 13/15\n",
      "4219/4219 [==============================] - 2031s 481ms/step - loss: 0.0460 - accuracy: 0.9838 - val_loss: 1.0530 - val_accuracy: 0.7880\n",
      "Epoch 14/15\n",
      "4219/4219 [==============================] - 1714s 406ms/step - loss: 0.0424 - accuracy: 0.9852 - val_loss: 1.0182 - val_accuracy: 0.7974\n",
      "Epoch 15/15\n",
      "4219/4219 [==============================] - 1722s 408ms/step - loss: 0.0417 - accuracy: 0.9851 - val_loss: 1.1562 - val_accuracy: 0.7831\n"
     ]
    },
    {
     "data": {
      "text/plain": [
       "<tensorflow.python.keras.callbacks.History at 0x7f547a1d0ed0>"
      ]
     },
     "execution_count": 3,
     "metadata": {},
     "output_type": "execute_result"
    }
   ],
   "source": [
    "convnet.compile(loss=trainer.loss, optimizer=trainer.optimizer, weighted_metrics=config[\"weighted_metrics\"])\n",
    "\n",
    "convnet.fit_generator(\n",
    "    train_generator, \n",
    "    epochs=config[\"n_epochs\"],\n",
    "    callbacks=trainer.callbacks,\n",
    "    validation_data=val_generator, \n",
    "    validation_steps=len(val_generator),\n",
    "    class_weight=data_manager.class_weight(\"kenya\"),\n",
    "    use_multiprocessing=True\n",
    ")"
   ]
  },
  {
   "cell_type": "code",
   "execution_count": 4,
   "metadata": {},
   "outputs": [],
   "source": [
    "predictions = convnet.predict_generator(val_generator, steps=len(val_generator))\n",
    "predictions = np.argmax(predictions, axis=1)"
   ]
  },
  {
   "cell_type": "code",
   "execution_count": 8,
   "metadata": {},
   "outputs": [
    {
     "name": "stdout",
     "output_type": "stream",
     "text": [
      "1073\n"
     ]
    },
    {
     "data": {
      "text/plain": [
       "(2.5, -0.5)"
      ]
     },
     "execution_count": 8,
     "metadata": {},
     "output_type": "execute_result"
    },
    {
     "data": {
      "image/png": "[encoded data removed]",
      "text/plain": [
       "<Figure size 432x288 with 2 Axes>"
      ]
     },
     "metadata": {
      "needs_background": "light"
     },
     "output_type": "display_data"
    }
   ],
   "source": [
    "from sklearn.metrics import confusion_matrix\n",
    "\n",
    "major_indices = [i for i, x in enumerate(val_generator.classes) if x == 0][:500]\n",
    "minor_indices = [i for i, x in enumerate(val_generator.classes) if x == 1][:500]\n",
    "two_indices = [i for i, x in enumerate(val_generator.classes) if x == 2][:500]\n",
    "\n",
    "y_pred = []\n",
    "y_true = []\n",
    "\n",
    "for index in major_indices:\n",
    "    y_true.append(val_generator.classes[index])\n",
    "    y_pred.append(predictions[index])\n",
    "    \n",
    "for index in minor_indices:\n",
    "    y_true.append(val_generator.classes[index])\n",
    "    y_pred.append(predictions[index])\n",
    "    \n",
    "for index in two_indices:\n",
    "    y_true.append(val_generator.classes[index])\n",
    "    y_pred.append(predictions[index])\n",
    "\n",
    "# y_pred = np.argmax(predictions, axis=1)\n",
    "\n",
    "print(np.sum(np.array(y_true) == np.array(y_pred)))\n",
    "\n",
    "classes = ['Major', 'Minor', 'Two-Track']\n",
    "\n",
    "cm = confusion_matrix(y_true, y_pred)\n",
    "\n",
    "fig, ax = plt.subplots()\n",
    "im = ax.imshow(cm, interpolation='nearest', cmap=plt.cm.Greens)\n",
    "ax.figure.colorbar(im, ax=ax)\n",
    "# We want to show all ticks...\n",
    "ax.set(xticks=np.arange(cm.shape[1]),\n",
    "       yticks=np.arange(cm.shape[0]),\n",
    "       # ... and label them with the respective list entries\n",
    "       xticklabels=classes, yticklabels=classes,\n",
    "       title='Kenya - Resnet50V2 Cropped - Declouded',\n",
    "       ylabel='True label',\n",
    "       xlabel='Predicted label')\n",
    "\n",
    "# Rotate the tick labels and set their alignment.\n",
    "plt.setp(ax.get_xticklabels(), rotation=45, ha=\"right\",\n",
    "         rotation_mode=\"anchor\")\n",
    "\n",
    "# fmt = '.2f' if normalize else 'd'\n",
    "thresh = cm.max() / 2.\n",
    "for i in range(cm.shape[0]):\n",
    "    for j in range(cm.shape[1]):\n",
    "        ax.text(j, i, format(cm[i, j], 'd'),\n",
    "                ha=\"center\", va=\"center\",\n",
    "                color=\"white\" if cm[i, j] > thresh else \"black\")\n",
    "\n",
    "fig.tight_layout()\n",
    "fig.show()\n",
    "plt.ylim([2.5, -0.5])"
   ]
  }
 ],
 "metadata": {
  "kernelspec": {
   "display_name": "Python 3",
   "language": "python",
   "name": "python3"
  },
  "language_info": {
   "codemirror_mode": {
    "name": "ipython",
    "version": 3
   },
   "file_extension": ".py",
   "mimetype": "text/x-python",
   "name": "python",
   "nbconvert_exporter": "python",
   "pygments_lexer": "ipython3",
   "version": "3.7.4"
  }
 },
 "nbformat": 4,
 "nbformat_minor": 2
}
