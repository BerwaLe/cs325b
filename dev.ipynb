{
 "cells": [
  {
   "cell_type": "code",
   "execution_count": 1,
   "metadata": {},
   "outputs": [],
   "source": [
    "import os\n",
    "import tensorflow as tf\n",
    "\n",
    "from modules.run import load_config\n",
    "from modules.run import Trainer\n",
    "from modules.data import DataManager\n",
    "from modules.models import pretrained_cnn\n",
    "\n",
    "## Testing imports\n",
    "\n",
    "import matplotlib.pyplot as plt\n",
    "import numpy as np"
   ]
  },
  {
   "cell_type": "code",
   "execution_count": 2,
   "metadata": {},
   "outputs": [],
   "source": [
    "config = load_config(\"cls_test\")"
   ]
  },
  {
   "cell_type": "code",
   "execution_count": 3,
   "metadata": {},
   "outputs": [],
   "source": [
    "data_manager = DataManager(config)"
   ]
  },
  {
   "cell_type": "code",
   "execution_count": 6,
   "metadata": {},
   "outputs": [
    {
     "name": "stdout",
     "output_type": "stream",
     "text": [
      "Found 900 validated image filenames belonging to 3 classes.\n",
      "Found 99 validated image filenames belonging to 3 classes.\n"
     ]
    }
   ],
   "source": [
    "train_generator, val_generator, dataframe = data_manager.generate_kenya()"
   ]
  },
  {
   "cell_type": "code",
   "execution_count": 5,
   "metadata": {},
   "outputs": [],
   "source": [
    "convnet = pretrained_cnn(config, image_size=config[\"image_size\"], n_channels=config[\"n_channels\"])"
   ]
  },
  {
   "cell_type": "code",
   "execution_count": 8,
   "metadata": {},
   "outputs": [],
   "source": [
    "trainer = Trainer(config)"
   ]
  },
  {
   "cell_type": "code",
   "execution_count": 7,
   "metadata": {},
   "outputs": [
    {
     "name": "stdout",
     "output_type": "stream",
     "text": [
      "[[1. 0. 0.]\n",
      " [0. 0. 1.]\n",
      " [1. 0. 0.]\n",
      " [0. 0. 1.]\n",
      " [1. 0. 0.]\n",
      " [0. 0. 1.]\n",
      " [0. 1. 0.]\n",
      " [1. 0. 0.]\n",
      " [1. 0. 0.]\n",
      " [1. 0. 0.]\n",
      " [1. 0. 0.]\n",
      " [0. 1. 0.]\n",
      " [0. 0. 1.]\n",
      " [1. 0. 0.]\n",
      " [0. 0. 1.]\n",
      " [0. 0. 1.]\n",
      " [1. 0. 0.]\n",
      " [0. 1. 0.]\n",
      " [0. 1. 0.]\n",
      " [1. 0. 0.]\n",
      " [1. 0. 0.]\n",
      " [0. 0. 1.]\n",
      " [0. 0. 1.]\n",
      " [0. 1. 0.]\n",
      " [0. 1. 0.]\n",
      " [0. 1. 0.]\n",
      " [1. 0. 0.]\n",
      " [0. 0. 1.]\n",
      " [0. 0. 1.]\n",
      " [0. 1. 0.]\n",
      " [0. 1. 0.]\n",
      " [0. 0. 1.]]\n",
      "[[1. 0. 0.]\n",
      " [1. 0. 0.]\n",
      " [1. 0. 0.]\n",
      " [1. 0. 0.]\n",
      " [1. 0. 0.]\n",
      " [1. 0. 0.]\n",
      " [1. 0. 0.]\n",
      " [1. 0. 0.]\n",
      " [1. 0. 0.]\n",
      " [1. 0. 0.]\n",
      " [1. 0. 0.]\n",
      " [1. 0. 0.]\n",
      " [1. 0. 0.]\n",
      " [1. 0. 0.]\n",
      " [1. 0. 0.]\n",
      " [1. 0. 0.]\n",
      " [1. 0. 0.]\n",
      " [1. 0. 0.]\n",
      " [1. 0. 0.]\n",
      " [1. 0. 0.]\n",
      " [1. 0. 0.]\n",
      " [1. 0. 0.]\n",
      " [1. 0. 0.]\n",
      " [1. 0. 0.]\n",
      " [1. 0. 0.]\n",
      " [1. 0. 0.]\n",
      " [1. 0. 0.]\n",
      " [1. 0. 0.]\n",
      " [1. 0. 0.]\n",
      " [1. 0. 0.]\n",
      " [1. 0. 0.]\n",
      " [1. 0. 0.]]\n"
     ]
    }
   ],
   "source": [
    "for i, class1 in train_generator:\n",
    "    print(class1)\n",
    "    break\n",
    "for i, class1 in val_generator:\n",
    "    print(class1)\n",
    "    break"
   ]
  },
  {
   "cell_type": "code",
   "execution_count": 9,
   "metadata": {},
   "outputs": [
    {
     "name": "stdout",
     "output_type": "stream",
     "text": [
      "Model: \"sequential\"\n",
      "_________________________________________________________________\n",
      "Layer (type)                 Output Shape              Param #   \n",
      "=================================================================\n",
      "resnet50v2 (Model)           (None, 2048)              23564800  \n",
      "_________________________________________________________________\n",
      "flatten (Flatten)            (None, 2048)              0         \n",
      "_________________________________________________________________\n",
      "dense (Dense)                (None, 512)               1049088   \n",
      "_________________________________________________________________\n",
      "dropout (Dropout)            (None, 512)               0         \n",
      "_________________________________________________________________\n",
      "dense_1 (Dense)              (None, 512)               262656    \n",
      "_________________________________________________________________\n",
      "dropout_1 (Dropout)          (None, 512)               0         \n",
      "_________________________________________________________________\n",
      "dense_2 (Dense)              (None, 3)                 1539      \n",
      "=================================================================\n",
      "Total params: 24,878,083\n",
      "Trainable params: 24,832,643\n",
      "Non-trainable params: 45,440\n",
      "_________________________________________________________________\n",
      "Epoch 1/10\n",
      "12/12 [==============================] - 13s 1s/step - loss: 3.1475 - accuracy: 0.4111 - val_loss: 1.2295 - val_accuracy: 0.4444\n",
      "Epoch 2/10\n",
      "12/12 [==============================] - 10s 822ms/step - loss: 2.3533 - accuracy: 0.3556 - val_loss: 2.2945 - val_accuracy: 0.4444\n",
      "Epoch 3/10\n",
      "12/12 [==============================] - 10s 806ms/step - loss: 2.5604 - accuracy: 0.3556 - val_loss: 2.1169 - val_accuracy: 0.1111\n",
      "Epoch 4/10\n",
      "12/12 [==============================] - 10s 798ms/step - loss: 1.9994 - accuracy: 0.5111 - val_loss: 5.3881 - val_accuracy: 0.1111\n",
      "Epoch 5/10\n",
      "12/12 [==============================] - 10s 797ms/step - loss: 1.9875 - accuracy: 0.5111 - val_loss: 3.9621 - val_accuracy: 0.4444\n",
      "Epoch 6/10\n",
      "12/12 [==============================] - 10s 797ms/step - loss: 1.3412 - accuracy: 0.6667 - val_loss: 4.3571 - val_accuracy: 0.1111\n",
      "Epoch 7/10\n",
      "12/12 [==============================] - 10s 801ms/step - loss: 1.2375 - accuracy: 0.6333 - val_loss: 3.2464 - val_accuracy: 0.2222\n",
      "Epoch 8/10\n",
      "12/12 [==============================] - 10s 796ms/step - loss: 0.9442 - accuracy: 0.7000 - val_loss: 2.9966 - val_accuracy: 0.3333\n",
      "Epoch 9/10\n",
      "12/12 [==============================] - 10s 793ms/step - loss: 1.3986 - accuracy: 0.6444 - val_loss: 3.0551 - val_accuracy: 0.3333\n",
      "Epoch 10/10\n",
      "12/12 [==============================] - 10s 795ms/step - loss: 0.8771 - accuracy: 0.7111 - val_loss: 2.2507 - val_accuracy: 0.3333\n"
     ]
    },
    {
     "data": {
      "text/plain": [
       "<tensorflow.python.keras.callbacks.History at 0x7fa2bee49d10>"
      ]
     },
     "execution_count": 9,
     "metadata": {},
     "output_type": "execute_result"
    }
   ],
   "source": [
    "convnet.compile(loss=trainer.loss, optimizer=trainer.optimizer, weighted_metrics=config[\"weighted_metrics\"])\n",
    "\n",
    "convnet.summary()\n",
    "\n",
    "convnet.fit_generator(\n",
    "    train_generator, \n",
    "    epochs=config[\"n_epochs\"],\n",
    "    callbacks=trainer.callbacks, \n",
    "    validation_data=val_generator, \n",
    "    validation_steps=len(val_generator) // config[\"batch_size\"],\n",
    "    class_weight=data_manager.class_weight(\"kenya\")\n",
    ")\n",
    "\n",
    "# convnet.fit_generator(\n",
    "#         train_generator, \n",
    "#         config[\"sample\"][\"size\"] * (1 - config[\"validation_split\"]) // config[\"batch_size\"],\n",
    "#         epochs=config[\"n_epochs\"],\n",
    "#         callbacks=trainer.callbacks, \n",
    "#         validation_data=val_generator, \n",
    "#         validation_steps=config[\"sample\"][\"size\"] * (config[\"validation_split\"]) // config[\"batch_size\"],\n",
    "#         class_weight=data_manager.class_weight(\"kenya\")\n",
    "#     )\n"
   ]
  }
 ],
 "metadata": {
  "kernelspec": {
   "display_name": "Python 3",
   "language": "python",
   "name": "python3"
  },
  "language_info": {
   "codemirror_mode": {
    "name": "ipython",
    "version": 3
   },
   "file_extension": ".py",
   "mimetype": "text/x-python",
   "name": "python",
   "nbconvert_exporter": "python",
   "pygments_lexer": "ipython3",
   "version": "3.7.4"
  }
 },
 "nbformat": 4,
 "nbformat_minor": 2
}
