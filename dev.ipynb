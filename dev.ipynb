{
 "cells": [
  {
   "cell_type": "code",
   "execution_count": null,
   "metadata": {},
   "outputs": [],
   "source": [
    "import os\n",
    "import cv2\n",
    "import json\n",
    "import numpy as np\n",
    "import pandas\n",
    "import skimage\n",
    "import shapefile\n",
    "import matplotlib.pyplot as plt\n",
    "\n",
    "import modules"
   ]
  },
  {
   "cell_type": "markdown",
   "metadata": {},
   "source": [
    "### load data"
   ]
  },
  {
   "cell_type": "code",
   "execution_count": null,
   "metadata": {},
   "outputs": [],
   "source": [
    "kenya_osm, kenya_sf = modules.data.load_shapefile(\"kenya\")\n",
    "kenya_geo = modules.data.load_geodata(\"kenya\")\n",
    "kenya_dat = pandas.DataFrame.merge(kenya_geo, kenya_osm, on=\"index\")\n",
    "\n",
    "kenya_filenames = modules.data.util.load_image_filenames(\"kenya\", D=128)"
   ]
  },
  {
   "cell_type": "code",
   "execution_count": null,
   "metadata": {},
   "outputs": [],
   "source": [
    "peru_osm, peru_sf = modules.data.load_shapefile(\"peru\")\n",
    "peru_geo = modules.data.load_geodata(\"peru\")\n",
    "peru_dat = pandas.DataFrame.merge(peru_geo, peru_osm, on=\"index\")\n",
    "# peru_filenames = modules.data.util.load_image_filenames(\"peru\", D=128)"
   ]
  },
  {
   "cell_type": "code",
   "execution_count": null,
   "metadata": {},
   "outputs": [],
   "source": []
  }
 ],
 "metadata": {
  "kernelspec": {
   "display_name": "Python 3",
   "language": "python",
   "name": "python3"
  },
  "language_info": {
   "codemirror_mode": {
    "name": "ipython",
    "version": 3
   },
   "file_extension": ".py",
   "mimetype": "text/x-python",
   "name": "python",
   "nbconvert_exporter": "python",
   "pygments_lexer": "ipython3",
   "version": "3.7.4"
  }
 },
 "nbformat": 4,
 "nbformat_minor": 2
}
