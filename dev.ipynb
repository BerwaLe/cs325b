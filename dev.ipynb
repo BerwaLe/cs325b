{
 "cells": [
  {
   "cell_type": "code",
   "execution_count": 1,
   "metadata": {},
   "outputs": [],
   "source": [
    "import os\n",
    "import tensorflow as tf\n",
    "\n",
    "from modules.run import load_config\n",
    "from modules.run import Trainer\n",
    "from modules.data import DataManager\n",
    "from modules.models import pretrained_cnn, pretrained_cnn_multichannel\n",
    "\n",
    "## Testing imports\n",
    "\n",
    "import matplotlib.pyplot as plt\n",
    "import numpy as np"
   ]
  },
  {
   "cell_type": "code",
   "execution_count": 3,
   "metadata": {},
   "outputs": [],
   "source": [
    "config=load_config(\"cls_test\")"
   ]
  },
  {
   "cell_type": "code",
   "execution_count": 4,
   "metadata": {},
   "outputs": [],
   "source": [
    "data_manager = DataManager(config)"
   ]
  },
  {
   "cell_type": "code",
   "execution_count": 5,
   "metadata": {},
   "outputs": [],
   "source": [
    "train_generator, val_generator, dataframe = data_manager.generate_kenya()"
   ]
  },
  {
   "cell_type": "code",
   "execution_count": 6,
   "metadata": {},
   "outputs": [],
   "source": [
    "convnet = pretrained_cnn(config, image_size=config[\"image_size\"], n_channels=config[\"n_channels\"])"
   ]
  },
  {
   "cell_type": "code",
   "execution_count": 7,
   "metadata": {},
   "outputs": [],
   "source": [
    "trainer = Trainer(config)"
   ]
  },
  {
   "cell_type": "code",
   "execution_count": 15,
   "metadata": {},
   "outputs": [],
   "source": [
    "convnet.compile(loss=trainer.loss, optimizer=trainer.optimizer, weighted_metrics=config[\"weighted_metrics\"])\n",
    "\n",
    "# convnet.load_weights('data/cls_test/checkpoints/weights.11-0.85.hdf5')\n",
    "\n",
    "convnet.fit_generator(\n",
    "    train_generator, \n",
    "    epochs=config[\"n_epochs\"],\n",
    "    callbacks=trainer.callbacks, \n",
    "    validation_data=val_generator, \n",
    "    validation_steps=len(val_generator),\n",
    "    class_weight=data_manager.class_weight(\"kenya\")\n",
    ")\n",
    "\n",
    "# convnet.fit_generator(\n",
    "#         train_generator, \n",
    "#         config[\"sample\"][\"size\"] * (1 - config[\"validation_split\"]) // config[\"batch_size\"] + 1,\n",
    "#         epochs=config[\"n_epochs\"],\n",
    "#         callbacks=trainer.callbacks, \n",
    "#         validation_data=val_generator, \n",
    "#         validation_steps=config[\"sample\"][\"size\"] * (config[\"validation_split\"]) // config[\"batch_size\"] + 1,\n",
    "#         class_weight=data_manager.class_weight(\"kenya\")\n",
    "#     )"
   ]
  }
 ],
 "metadata": {
  "kernelspec": {
   "display_name": "Python 3",
   "language": "python",
   "name": "python3"
  },
  "language_info": {
   "codemirror_mode": {
    "name": "ipython",
    "version": 3
   },
   "file_extension": ".py",
   "mimetype": "text/x-python",
   "name": "python",
   "nbconvert_exporter": "python",
   "pygments_lexer": "ipython3",
   "version": "3.7.4"
  }
 },
 "nbformat": 4,
 "nbformat_minor": 2
}
