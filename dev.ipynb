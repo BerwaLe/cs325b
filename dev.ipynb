{
 "cells": [
  {
   "cell_type": "code",
   "execution_count": null,
   "metadata": {},
   "outputs": [],
   "source": [
    "import os\n",
    "import cv2\n",
    "import json\n",
    "import numpy as np\n",
    "import pandas\n",
    "import skimage\n",
    "import shapefile\n",
    "import matplotlib.pyplot as plt\n",
    "\n",
    "import modules"
   ]
  },
  {
   "cell_type": "markdown",
   "metadata": {},
   "source": [
    "### load data"
   ]
  },
  {
   "cell_type": "code",
   "execution_count": null,
   "metadata": {},
   "outputs": [],
   "source": [
    "kenya_osm, kenya_sf = modules.data.load_shapefile(\"kenya\")\n",
    "kenya_geo = modules.data.load_geodata(\"kenya\")\n",
    "kenya_dat = pandas.DataFrame.merge(kenya_geo, kenya_osm, on=\"index\")\n",
    "\n",
    "kenya_filenames = set(modules.data.util.load_image_filenames(\"kenya\", D=128))"
   ]
  },
  {
   "cell_type": "code",
   "execution_count": null,
   "metadata": {},
   "outputs": [],
   "source": [
    "N = 5000\n",
    "\n",
    "kenya_dat[kenya_dat[\"class\"] == \"major\"]\n",
    "kenya_dat[kenya_dat[\"class\"] == \"minor\"]\n",
    "kenya_dat[kenya_dat[\"class\"] == \"two-track\"]\n",
    "kenya_dat[\"valid\"] = [f\"{int(index)}_{int(road_id)}.npy\" in kenya_filenames for index, road_id in enumerate(kenya_dat.values[:, 0])]\n",
    "\n",
    "major = kenya_dat.iloc[np.random.choice(kenya_dat[np.logical_and(kenya_dat[\"class\"] == \"major\", kenya_dat[\"valid\"] == True)].index, size=N, replace=False)]\n",
    "minor = kenya_dat.iloc[np.random.choice(kenya_dat[np.logical_and(kenya_dat[\"class\"] == \"minor\", kenya_dat[\"valid\"] == True)].index, size=N, replace=False)]\n",
    "two_track = kenya_dat.iloc[np.random.choice(kenya_dat[np.logical_and(kenya_dat[\"class\"] == \"two-track\", kenya_dat[\"valid\"] == True)].index, size=N, replace=False)]\n",
    "\n",
    "filenames = [f\"{idx}_{int(df.loc[idx]['id'])}.npy\" for df in [major, minor, two_track] for idx in df.index]\n",
    "permutation = np.arange(len(filenames))\n",
    "np.random.shuffle(permutation)\n",
    "\n",
    "filenames = [filenames[i] for i in permutation]\n",
    "images = np.array([np.load(os.path.join(modules.data.util.root(), \"kenya\", \"kenya_128x128_images\", fname)) for fname in filenames])\n",
    "labels = permutation // N"
   ]
  }
 ],
 "metadata": {
  "kernelspec": {
   "display_name": "Python 3",
   "language": "python",
   "name": "python3"
  },
  "language_info": {
   "codemirror_mode": {
    "name": "ipython",
    "version": 3
   },
   "file_extension": ".py",
   "mimetype": "text/x-python",
   "name": "python",
   "nbconvert_exporter": "python",
   "pygments_lexer": "ipython3",
   "version": "3.7.0"
  }
 },
 "nbformat": 4,
 "nbformat_minor": 2
}
