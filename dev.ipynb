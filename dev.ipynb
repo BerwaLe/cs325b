{
 "cells": [
  {
   "cell_type": "code",
   "execution_count": 14,
   "metadata": {},
   "outputs": [],
   "source": [
    "import os\n",
    "import cv2\n",
    "import json\n",
    "import numpy as np\n",
    "import pandas\n",
    "import skimage\n",
    "import shapefile\n",
    "import matplotlib.pyplot as plt\n",
    "import tensorflow as tf\n",
    "import modules"
   ]
  },
  {
   "cell_type": "markdown",
   "metadata": {},
   "source": [
    "### load data"
   ]
  },
  {
   "cell_type": "code",
   "execution_count": 47,
   "metadata": {},
   "outputs": [],
   "source": [
    "# TODO: make TF2 work with GPU (high priority)\n",
    "\n",
    "# TODO: rescale images to workable size (low priority -- use ben's for now)\n",
    "\n",
    "# TODO: filter unwanted samples e.g. clouds, outliers, etc. (low priority)\n",
    "\n",
    "# TODO: center images via mean subtraction (low priority)\n",
    "\n",
    "# TODO: make temporary train-val-test split (medium priority)\n",
    "\n",
    "config = modules.run.load_config(\"cls\", tag=\"w5\")\n",
    "dg = DatasetGenerator(config=config)\n",
    "dataset_kenya = dg.generate_kenya()"
   ]
  },
  {
   "cell_type": "code",
   "execution_count": null,
   "metadata": {},
   "outputs": [],
   "source": [
    "inputs = tf.keras.layers.Input(shape=(config[\"batch_size\"], config[\"image_size\"], config[\"image_size\"], config[\"n_channels\"]))\n",
    "\n",
    "# TODO: load ResNet, choose loss and optimizer, build out checkpointing and tensorboard.\n",
    "\n",
    "model = tf.keras.Model()"
   ]
  }
 ],
 "metadata": {
  "kernelspec": {
   "display_name": "Python 3",
   "language": "python",
   "name": "python3"
  },
  "language_info": {
   "codemirror_mode": {
    "name": "ipython",
    "version": 3
   },
   "file_extension": ".py",
   "mimetype": "text/x-python",
   "name": "python",
   "nbconvert_exporter": "python",
   "pygments_lexer": "ipython3",
   "version": "3.7.4"
  }
 },
 "nbformat": 4,
 "nbformat_minor": 2
}
