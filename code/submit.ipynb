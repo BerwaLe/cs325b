{
 "cells": [
  {
   "cell_type": "code",
   "execution_count": 1,
   "metadata": {},
   "outputs": [],
   "source": [
    "import os\n",
    "import sys\n",
    "\n",
    "import numpy as np\n",
    "import pandas as pd\n",
    "import matplotlib.pyplot as plt\n",
    "import tensorflow as tfcle\n",
    "\n",
    "from sklearn.metrics import confusion_matrix, f1_score, precision_score, recall_score, accuracy_score\n",
    "\n",
    "from modules.run import load_config, Trainer, Metrics\n",
    "from modules.data import DataManager, processing, util\n",
    "from modules.models import pretrained_cnn, pretrained_cnn_multichannel"
   ]
  },
  {
   "cell_type": "code",
   "execution_count": 2,
   "metadata": {},
   "outputs": [],
   "source": [
    "def preprocess(country, config, data_manager):\n",
    "    print(f\"Preprocess {country}...\")\n",
    "\n",
    "    print()\n",
    "\n",
    "    print(\"+=+ RENAMING IMAGES.... +=+\")\n",
    "    processing.rename(country)\n",
    "\n",
    "    print(\"+=+ FILTERING IMAGES... +=+\")\n",
    "    processing.generate_filters(country)\n",
    "\n",
    "    print(\"+=+ DOWNCROPPING IMAGES +=+\")\n",
    "    processing.downcrop(country, config[\"image_size\"])\n",
    "\n",
    "    print(\"+=+ INIT DATA MANAGER.. +=+\")\n",
    "    data_manager._setup(country)\n",
    "\n",
    "    print(\"+=+ GENERATING MASKS... +=+\")\n",
    "    if country is \"kenya\":\n",
    "        processing.generate_masks(country, config, data_manager)\n",
    "\n",
    "    print()"
   ]
  },
  {
   "cell_type": "code",
   "execution_count": 3,
   "metadata": {},
   "outputs": [],
   "source": [
    "def run_experiment_from_config(config_file, country):\n",
    "\n",
    "    config = load_config(config_file)\n",
    "    data_manager = DataManager(config)\n",
    "\n",
    "    class_weight = None\n",
    "    train_generator = None\n",
    "    val_generator = None\n",
    "\n",
    "    if country == 'kenya':\n",
    "        train_generator, val_generator, dataframe = data_manager.generate_kenya()\n",
    "        class_weight = data_manager.class_weight(\"kenya\")\n",
    "    elif country == 'peru':\n",
    "        train_generator, val_generator, dataframe = data_manager.generate_peru()\n",
    "        class_weight = class_weight=[1.64, 1, 2]\n",
    "    \n",
    "    convnet = pretrained_cnn_multichannel(config, image_size=config[\"image_size\"], n_channels=config[\"n_channels\"])\n",
    "\n",
    "    val_steps = config[\"sample\"][\"size\"] * (config[\"validation_split\"]) // config[\"batch_size\"] + 1\n",
    "\n",
    "    labels = None\n",
    "    if config['mask'] is not None:\n",
    "        epochs = 0\n",
    "        labels = []\n",
    "        for data, label in val_generator:\n",
    "            if epochs >= val_steps:\n",
    "                break\n",
    "            labels.extend(np.argmax(label, axis=1))\n",
    "            epochs += 1\n",
    "        labels = np.array(labels)\n",
    "    trainer = Trainer(config)\n",
    "    metrics_callback = Metrics(val_generator, trainer.tensorboard_dir, labels, val_steps)\n",
    "    trainer.callbacks.append(metrics_callback)\n",
    "\n",
    "    convnet.compile(loss=trainer.loss, optimizer=trainer.optimizer, metrics=config[\"weighted_metrics\"])\n",
    "\n",
    "    convnet.fit_generator(\n",
    "        train_generator, \n",
    "        config[\"sample\"][\"size\"] * (1 - config[\"validation_split\"]) // config[\"batch_size\"] + 1,\n",
    "        epochs=config[\"n_epochs\"],\n",
    "        callbacks=trainer.callbacks,\n",
    "        validation_data=val_generator, \n",
    "        validation_steps=val_steps,\n",
    "        class_weight=class_weight,\n",
    "        use_multiprocessing=True\n",
    "    )"
   ]
  },
  {
   "cell_type": "code",
   "execution_count": 4,
   "metadata": {},
   "outputs": [],
   "source": [
    "def setup_cross_domain_from_config(config_file, country):\n",
    "\n",
    "    config = load_config(config_file)\n",
    "    data_manager = DataManager(config)\n",
    "\n",
    "    class_weight = None\n",
    "    train_generator = None\n",
    "    val_generator = None\n",
    "\n",
    "    if country == 'kenya':\n",
    "        train_generator, val_generator, dataframe = data_manager.generate_kenya()\n",
    "    elif country == 'peru':\n",
    "        train_generator, val_generator, dataframe = data_manager.generate_peru()\n",
    "    \n",
    "    convnet = pretrained_cnn_multichannel(config, image_size=config[\"image_size\"], n_channels=config[\"n_channels\"])\n",
    "    return convnet, val_generator\n",
    "\n",
    "def best_weights(directory):\n",
    "    fnames = [fname for fname in os.listdir(directory) if fname.endswith(\"hdf5\")]\n",
    "    fname = min(fnames, key=lambda fname: float(fname.split(\"-\")[-1].split(\".\")[0]))\n",
    "    return fname"
   ]
  },
  {
   "cell_type": "markdown",
   "metadata": {},
   "source": [
    "### Preprocess the data"
   ]
  },
  {
   "cell_type": "code",
   "execution_count": null,
   "metadata": {},
   "outputs": [],
   "source": [
    "config = load_config(\"preprocess\")\n",
    "\n",
    "# Initialize the DataManager with no data\n",
    "config[\"use_kenya_images\"] = False\n",
    "config[\"use_peru_images\"] = False\n",
    "data_manager = DataManager(config)\n",
    "\n",
    "preprocess(\"kenya\", config, data_manager)\n",
    "preprocess(\"peru\", config, data_manager)"
   ]
  },
  {
   "cell_type": "markdown",
   "metadata": {},
   "source": [
    "### Run the Experiments"
   ]
  },
  {
   "cell_type": "code",
   "execution_count": null,
   "metadata": {},
   "outputs": [],
   "source": [
    "# Xception and Masking Experiments\n",
    "run_experiment_from_config(\"final_xception_kenya_rgb\", \"kenya\")\n",
    "run_experiment_from_config(\"final_xception_peru_rgb\", \"peru\")\n",
    "run_experiment_from_config(\"final_xception_kenya_masked\", \"kenya\")\n",
    "run_experiment_from_config(\"final_xception_kenya_masked-inverted\", \"kenya\")\n",
    "run_experiment_from_config(\"final_xception_kenya_two_with_mask\", \"kenya\")\n",
    "\n",
    "# ResNetV2 and Binarization Experiments\n",
    "run_experiment_from_config(\"final_resnet_kenya\", \"kenya\")\n",
    "run_experiment_from_config(\"final_resnet_kenya_balanced\", \"kenya\")\n",
    "run_experiment_from_config(\"final_resnet_kenya_balanced_major_vs_all\", \"kenya\")\n",
    "run_experiment_from_config(\"final_resnet_kenya_balanced_major_vs_minor\", \"kenya\")\n",
    "run_experiment_from_config(\"final_resnet_kenya_balanced_major_vs_twotrack\", \"kenya\")\n",
    "run_experiment_from_config(\"final_resnet_kenya_balanced_minor_vs_all\", \"kenya\")\n",
    "run_experiment_from_config(\"final_resnet_kenya_balanced_minor_vs_twotrack\", \"kenya\")"
   ]
  },
  {
   "cell_type": "markdown",
   "metadata": {},
   "source": [
    "### Analysis"
   ]
  },
  {
   "cell_type": "code",
   "execution_count": null,
   "metadata": {},
   "outputs": [],
   "source": [
    "o_file = open(os.path.join(util.root(), \"..\", \"submission_out.txt\"), \"wt\")\n",
    "to_write = \"\""
   ]
  },
  {
   "cell_type": "code",
   "execution_count": null,
   "metadata": {},
   "outputs": [],
   "source": [
    "try:\n",
    "    name = \"final_xception_peru_balanced\"\n",
    "    path = os.path.join(util.root(), \"data\", name)\n",
    "    model, val_gen = setup_cross_domain_from_config(name, \"kenya\")\n",
    "    model.load_weights(os.path.join(path, best_weights(path)))\n",
    "    val_predict = np.argmax(model.predict(val_gen), axis=1)\n",
    "\n",
    "    to_write += f\"acc(peru -> kenya): {str(accuracy_score(val_gen.classes, val_predict))}\\n\"\n",
    "    average = \"macro\"\n",
    "    to_write += f\"f_1(peru -> kenya): {str(f1_score(val_gen.classes, val_predict, average=average))}\\n\"\n",
    "except:\n",
    "    to_wrote += \"WARNING: failed to record (peru -> kenya) metrics\""
   ]
  },
  {
   "cell_type": "code",
   "execution_count": null,
   "metadata": {},
   "outputs": [],
   "source": [
    "try:\n",
    "    name = \"final_xception_kenya_balanced\"\n",
    "    path = os.path.join(util.root(), \"data\", name)\n",
    "    model, val_gen = setup_cross_domain_from_config(name, \"peru\")\n",
    "    model.load_weights(os.path.join(path, best_weights(path)))\n",
    "    val_predict = np.argmax(model.predict(val_gen), axis=1)\n",
    "    \n",
    "    to_write += f\"acc(kenya -> peru): {str(accuracy_score(val_gen.classes, val_predict))}\\n\"\n",
    "    average = \"macro\"\n",
    "    to_write += f\"f_1(kenya -> peru): {str(f1_score(val_gen.classes, val_predict, average=average))}\\n\"\n",
    "except:\n",
    "    to_wrote += \"WARNING: failed to record (kenya -> peru) metrics\""
   ]
  },
  {
   "cell_type": "code",
   "execution_count": null,
   "metadata": {},
   "outputs": [],
   "source": [
    "to_write += \"For detailed training and validation metrics for all experiments\"   + \\\n",
    "            \"please see the Tensorboard event files in the root/data/<config>/\" + \\\n",
    "            \"tensorboard directory.\"\n",
    "\n",
    "o_file.write(to_write)\n",
    "o_file.close()"
   ]
  },
  {
   "cell_type": "code",
   "execution_count": null,
   "metadata": {},
   "outputs": [],
   "source": []
  }
 ],
 "metadata": {
  "kernelspec": {
   "display_name": "Python 3",
   "language": "python",
   "name": "python3"
  },
  "language_info": {
   "codemirror_mode": {
    "name": "ipython",
    "version": 3
   },
   "file_extension": ".py",
   "mimetype": "text/x-python",
   "name": "python",
   "nbconvert_exporter": "python",
   "pygments_lexer": "ipython3",
   "version": "3.7.4"
  }
 },
 "nbformat": 4,
 "nbformat_minor": 2
}
