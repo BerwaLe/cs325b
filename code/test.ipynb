{
 "cells": [
  {
   "cell_type": "code",
   "execution_count": null,
   "metadata": {},
   "outputs": [],
   "source": [
    "import os\n",
    "import sys\n",
    "\n",
    "import numpy as np\n",
    "import pandas as pd\n",
    "import matplotlib.pyplot as plt\n",
    "import tensorflow as tf\n",
    "\n",
    "from sklearn.metrics import confusion_matrix, f1_score, precision_score, recall_score, accuracy_score\n",
    "\n",
    "from modules.run import load_config, Trainer, Metrics\n",
    "from modules.data import DataManager, processing, util\n",
    "from modules.models import pretrained_cnn, pretrained_cnn_multichannel"
   ]
  },
  {
   "cell_type": "code",
   "execution_count": null,
   "metadata": {},
   "outputs": [],
   "source": [
    "config=load_config(\"test\")"
   ]
  },
  {
   "cell_type": "code",
   "execution_count": null,
   "metadata": {},
   "outputs": [],
   "source": [
    "data_manager = DataManager(config)"
   ]
  },
  {
   "cell_type": "code",
   "execution_count": null,
   "metadata": {},
   "outputs": [],
   "source": [
    "train_generator, val_generator, dataframe = data_manager.generate_kenya()"
   ]
  },
  {
   "cell_type": "code",
   "execution_count": null,
   "metadata": {},
   "outputs": [],
   "source": [
    "convnet = pretrained_cnn(config, image_size=config[\"image_size\"], n_channels=config[\"n_channels\"])"
   ]
  },
  {
   "cell_type": "code",
   "execution_count": null,
   "metadata": {},
   "outputs": [],
   "source": [
    "trainer = Trainer(config)"
   ]
  },
  {
   "cell_type": "code",
   "execution_count": null,
   "metadata": {},
   "outputs": [],
   "source": [
    "convnet.compile(loss=trainer.loss, optimizer=trainer.optimizer, weighted_metrics=config[\"weighted_metrics\"])\n",
    "\n",
    "# Load weights\n",
    "# convnet.load_weights(\"\")\n",
    "\n",
    "# convnet.fit_generator(\n",
    "#     train_generator, \n",
    "#     epochs=config[\"n_epochs\"],\n",
    "#     callbacks=trainer.callbacks, \n",
    "#     validation_data=val_generator, \n",
    "#     validation_steps=len(val_generator),\n",
    "#     class_weight=data_manager.class_weight(\"kenya\")\n",
    "# )\n",
    "\n",
    "train_steps = config[\"sample\"][\"size\"] * (1 - config[\"validation_split\"]) // config[\"batch_size\"] + 1\n",
    "val_steps = config[\"sample\"][\"size\"] * (config[\"validation_split\"]) // config[\"batch_size\"] + 1\n",
    "convnet.fit_generator(\n",
    "    train_generator, \n",
    "    config[\"sample\"][\"size\"] * (1 - config[\"validation_split\"]) // config[\"batch_size\"] + 1,\n",
    "    epochs=config[\"n_epochs\"],\n",
    "    callbacks=trainer.callbacks,\n",
    "    validation_data=val_generator, \n",
    "    validation_steps=val_steps,\n",
    "    class_weight=data_manager.class_weight(\"kenya\"),\n",
    "    use_multiprocessing=True\n",
    ")"
   ]
  },
  {
   "cell_type": "code",
   "execution_count": null,
   "metadata": {},
   "outputs": [],
   "source": []
  }
 ],
 "metadata": {
  "kernelspec": {
   "display_name": "Python 3",
   "language": "python",
   "name": "python3"
  },
  "language_info": {
   "codemirror_mode": {
    "name": "ipython",
    "version": 3
   },
   "file_extension": ".py",
   "mimetype": "text/x-python",
   "name": "python",
   "nbconvert_exporter": "python",
   "pygments_lexer": "ipython3",
   "version": "3.7.4"
  }
 },
 "nbformat": 4,
 "nbformat_minor": 2
}
